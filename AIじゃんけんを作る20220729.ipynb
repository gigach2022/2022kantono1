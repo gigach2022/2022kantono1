{
  "nbformat": 4,
  "nbformat_minor": 0,
  "metadata": {
    "colab": {
      "provenance": [],
      "collapsed_sections": [],
      "include_colab_link": true
    },
    "kernelspec": {
      "name": "python3",
      "display_name": "Python 3"
    },
    "language_info": {
      "name": "python"
    }
  },
  "cells": [
    {
      "cell_type": "markdown",
      "metadata": {
        "id": "view-in-github",
        "colab_type": "text"
      },
      "source": [
        "<a href=\"https://colab.research.google.com/github/gigach2022/2022kantono1/blob/main/AI%E3%81%98%E3%82%83%E3%82%93%E3%81%91%E3%82%93%E3%82%92%E4%BD%9C%E3%82%8B20220729.ipynb\" target=\"_parent\"><img src=\"https://colab.research.google.com/assets/colab-badge.svg\" alt=\"Open In Colab\"/></a>"
      ]
    },
    {
      "cell_type": "markdown",
      "source": [
        "#Teachable Machine（ティーチャブルマシーン）で作成した学習モデルでAIじゃんけんプログラムを作ろう"
      ],
      "metadata": {
        "id": "_MTSaOQ0ui_z"
      }
    },
    {
      "cell_type": "markdown",
      "source": [
        "#目標"
      ],
      "metadata": {
        "id": "KVoyAgMhBwrR"
      }
    },
    {
      "cell_type": "code",
      "source": [
        "#Googleドライブをマウントする\n",
        "from google.colab import drive\n",
        "drive.mount('/content/drive')"
      ],
      "metadata": {
        "id": "HO_3uHs5CDVA"
      },
      "execution_count": null,
      "outputs": []
    },
    {
      "cell_type": "code",
      "source": [
        "#じゃんけんプログラム\n",
        "from tensorflow import keras\n",
        "from keras.models import load_model\n",
        "from PIL import Image, ImageOps #Pillow(PIL): 画像処理ライブラリ\n",
        "import numpy as np\n",
        "import os\n",
        "import shutil\n",
        "from google.colab import files\n",
        "\n",
        "model = load_model('/content/drive//My Drive/data/20220729/keras_model.h5', compile=False)\n",
        "\n",
        "data = np.ndarray(shape=(1, 224, 224, 3), dtype=np.float32)\n",
        "f = files.upload()\n",
        "#読み込んだ画像のファイル名\n",
        "filename = list(f)[0]\n",
        "image = Image.open(filename)\n",
        "size = (224, 224)\n",
        "image = ImageOps.fit(image, size, Image.ANTIALIAS)\n",
        "#plt.imshow(image)\n",
        "image_array = np.asarray(image)\n",
        "#print(image_array)\n",
        "normalized_image_array = (image_array.astype(np.float32) / 127.0) - 1\n",
        "data[0] = normalized_image_array\n",
        "prediction = model.predict(data)\n",
        "#print(prediction)\n",
        "if prediction[0][0] > 0.7:\n",
        "    print('何も出していない')\n",
        "elif prediction[0][1] > 0.7:\n",
        "    print('ぐー')\n",
        "elif prediction[0][2] > 0.7:\n",
        "    print('ちょき')\n",
        "else:\n",
        "    print('ぱー')"
      ],
      "metadata": {
        "id": "e-FulktkBz9X"
      },
      "execution_count": null,
      "outputs": []
    },
    {
      "cell_type": "markdown",
      "source": [
        "#Teachable Machineとは\n",
        "\n",
        "https://teachablemachine.withgoogle.com/\n",
        "\n",
        "AIって何？\n",
        "https://docs.google.com/presentation/d/1BdbvRvuxDBakRVhpZEGRIi09IxHK94hq8_wfZ8URKag/edit?usp=sharing\n"
      ],
      "metadata": {
        "id": "qGF2ABJD7-Mx"
      }
    },
    {
      "cell_type": "markdown",
      "source": [
        "#ここではAIに画像認識をさせるために、教師データ（サンプルとなる画像）にPythonでどの様な下処理をしているのか学んでみましょう\n"
      ],
      "metadata": {
        "id": "SQ5clYir7-p3"
      }
    },
    {
      "cell_type": "markdown",
      "source": [
        "###1.機械学習でよく使うPillow, NumPy, OpenCVの基本的な違いと使い分け\n",
        "\n",
        "##Pillow(PIL): 画像処理ライブラリ\n",
        "\n",
        "NumPy: 科学計算ライブラリ\n",
        "\n",
        "OpenCV: コンピュータビジョンライブラリ"
      ],
      "metadata": {
        "id": "ZAdKS7GC8hVK"
      }
    },
    {
      "cell_type": "code",
      "source": [
        "#まずはGoogleドライブをマウント\n",
        "from google.colab import drive\n",
        "drive.mount('/content/drive')"
      ],
      "metadata": {
        "colab": {
          "base_uri": "https://localhost:8080/"
        },
        "id": "DcD_hv7ky89z",
        "outputId": "b9b27408-800b-42c0-a656-39c836b57224"
      },
      "execution_count": null,
      "outputs": [
        {
          "output_type": "stream",
          "name": "stdout",
          "text": [
            "Mounted at /content/drive\n"
          ]
        }
      ]
    },
    {
      "cell_type": "markdown",
      "source": [
        "#画像のアップロード"
      ],
      "metadata": {
        "id": "a0IteNDr-RUZ"
      }
    },
    {
      "cell_type": "code",
      "source": [
        "from PIL import Image #Pillow(PIL): 画像処理ライブラリ\n",
        "#画像を読み込んでみよう\n",
        "from google.colab import files\n",
        "f = files.upload()\n",
        "#読み込んだ画像のファイル名\n",
        "filename = list(f)[0]"
      ],
      "metadata": {
        "id": "Je9swpm09Qqh"
      },
      "execution_count": null,
      "outputs": []
    },
    {
      "cell_type": "markdown",
      "source": [
        "#画像の表示"
      ],
      "metadata": {
        "id": "Qi3hTFrC9fc4"
      }
    },
    {
      "cell_type": "code",
      "source": [
        "#読み込んだ画像を表示してみる\n",
        "image = Image.open(filename)\n",
        "plt.imshow(image)"
      ],
      "metadata": {
        "id": "d4gBofYu9iuo"
      },
      "execution_count": null,
      "outputs": []
    },
    {
      "cell_type": "markdown",
      "source": [
        "#画像のサイズ変更"
      ],
      "metadata": {
        "id": "ixF4vos4-sU_"
      }
    },
    {
      "cell_type": "code",
      "source": [
        "#画像の大きさの変更\n",
        "width = 50\n",
        "w = img.width\n",
        "ratio = width / img.width\n",
        "height = int(img.height * ratio)\n",
        "im_resized = img.resize((width,height))\n",
        "plt.imshow(im_resized)"
      ],
      "metadata": {
        "id": "CwvMfhDb-q8A"
      },
      "execution_count": null,
      "outputs": []
    },
    {
      "cell_type": "markdown",
      "source": [
        "#画像の回転"
      ],
      "metadata": {
        "id": "J11oBW-V-6cJ"
      }
    },
    {
      "cell_type": "code",
      "source": [
        "#画像の回転\n",
        "im_rotate = im_resized.rotate(90, expand=True) #回転\n",
        "plt.imshow(im_rotate)"
      ],
      "metadata": {
        "id": "NSvmSCj9-86o"
      },
      "execution_count": null,
      "outputs": []
    },
    {
      "cell_type": "markdown",
      "source": [
        "#画像のグレースケール化"
      ],
      "metadata": {
        "id": "701-2_TR_Glo"
      }
    },
    {
      "cell_type": "code",
      "source": [
        "#画像をグレースケール化\n",
        "#imgGray = im_rotate.convert(mode=\"L\")\n",
        "imgGray = im_rotate.convert(mode=\"1\")\n",
        "plt.imshow(imgGray)"
      ],
      "metadata": {
        "id": "ELPXgtTT_Km4"
      },
      "execution_count": null,
      "outputs": []
    },
    {
      "cell_type": "markdown",
      "source": [
        "参照1\n",
        "pillowやopnecvで画像を表示させる方法\n",
        "\n",
        "https://qiita.com/mo256man/items/8912934578025adb5ce5\n",
        "\n",
        "参照2\n",
        "画像で振り分け\n",
        "\n",
        "https://developers-trash.com/archives/354"
      ],
      "metadata": {
        "id": "wko6FkDQ_hKo"
      }
    },
    {
      "cell_type": "markdown",
      "source": [
        "#演習\n",
        "Googleドライブの画像を。サイズを変えて表示するプログラムを作成してみよう"
      ],
      "metadata": {
        "id": "vdKyOrrgAIPC"
      }
    },
    {
      "cell_type": "code",
      "source": [
        "from PIL import Image, ImageOps\n",
        "import numpy as np\n",
        "import os\n",
        "\n",
        "data = np.ndarray(shape=(1, 224, 224, 3), dtype=np.float32)\n",
        "image = Image.open('/content/drive/My Drive/image02.jpg')\n",
        "size = (224, 224)\n",
        "image = ImageOps.fit(image, size, Image.ANTIALIAS)\n",
        "plt.imshow(image)"
      ],
      "metadata": {
        "id": "n4oMTML-AW8g"
      },
      "execution_count": null,
      "outputs": []
    },
    {
      "cell_type": "markdown",
      "source": [
        "#課題\n",
        "コンピュータに乱数を発生させ、勝敗を表示させるじゃんけんプログラムを作ろう"
      ],
      "metadata": {
        "id": "ZwwkR2IVHZBo"
      }
    },
    {
      "cell_type": "code",
      "source": [
        "import random\n",
        "Te = [\"\",\"ぐー\",\"ちょき\",\"ぱー\"]\n",
        "me = int(input(\"あなたの手を（ぐー(1)、2:ちょき(2)、ぱー(3)を数字で選んでください:\")) #あなたの手\n",
        "you = random.randint(1, 3) #コンピュータの手\n",
        "print(\"あなたの手は：\",Te[me])\n",
        "print(\"コンピュータの手は：\",Te[you])\n",
        "print(\"勝敗は\")"
      ],
      "metadata": {
        "id": "aLTu--HPizVz"
      },
      "execution_count": null,
      "outputs": []
    }
  ]
}