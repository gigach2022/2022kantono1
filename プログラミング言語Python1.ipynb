{
  "nbformat": 4,
  "nbformat_minor": 0,
  "metadata": {
    "colab": {
      "provenance": [],
      "collapsed_sections": [],
      "include_colab_link": true
    },
    "kernelspec": {
      "name": "python3",
      "display_name": "Python 3"
    },
    "language_info": {
      "name": "python"
    }
  },
  "cells": [
    {
      "cell_type": "markdown",
      "metadata": {
        "id": "view-in-github",
        "colab_type": "text"
      },
      "source": [
        "<a href=\"https://colab.research.google.com/github/gigach2022/2022kantono1/blob/main/%E3%83%97%E3%83%AD%E3%82%B0%E3%83%A9%E3%83%9F%E3%83%B3%E3%82%B0%E8%A8%80%E8%AA%9EPython1.ipynb\" target=\"_parent\"><img src=\"https://colab.research.google.com/assets/colab-badge.svg\" alt=\"Open In Colab\"/></a>"
      ]
    },
    {
      "cell_type": "markdown",
      "source": [
        "# <font color=\"blue\">プログラミング言語Pythonについて学ぼう</font>"
      ],
      "metadata": {
        "id": "1xrYFSEFNn4m"
      }
    },
    {
      "cell_type": "markdown",
      "source": [
        "## 順次処理"
      ],
      "metadata": {
        "id": "pqA1EuLP38Yf"
      }
    },
    {
      "cell_type": "code",
      "source": [
        "print(1)"
      ],
      "metadata": {
        "id": "uXg_Zte14EKY"
      },
      "execution_count": null,
      "outputs": []
    },
    {
      "cell_type": "code",
      "source": [
        "print(\"にわとり\")"
      ],
      "metadata": {
        "id": "pcB6bzuY4Ky9"
      },
      "execution_count": null,
      "outputs": []
    },
    {
      "cell_type": "markdown",
      "source": [
        "## 変数\n",
        "1. コンピュータに記憶させるためのメモリ領域\n",
        "2. プログラミング言語の中ではアルファベットの小文字始まる文字列で表す（iという文字が使われることが多い）\n"
      ],
      "metadata": {
        "id": "ZihfX0vIzGMo"
      }
    },
    {
      "cell_type": "code",
      "execution_count": null,
      "metadata": {
        "id": "3_n-30hoy9C1"
      },
      "outputs": [],
      "source": [
        "a = 1\n",
        "b = \"にわとり\"\n",
        "print(a)\n",
        "print(b)"
      ]
    },
    {
      "cell_type": "markdown",
      "source": [
        "## 反復処理"
      ],
      "metadata": {
        "id": "_heWebghzX-P"
      }
    },
    {
      "cell_type": "code",
      "source": [
        "for i in range(10):\n",
        "  print(\"にわとり\")"
      ],
      "metadata": {
        "id": "H4KulBJsza4_"
      },
      "execution_count": null,
      "outputs": []
    },
    {
      "cell_type": "markdown",
      "source": [
        "## 分岐処理"
      ],
      "metadata": {
        "id": "KBPlPoi1PxPo"
      }
    },
    {
      "cell_type": "code",
      "source": [
        "a = 10\n",
        "if a < 18:\n",
        "  print(\"選挙権なし\")\n",
        "else:\n",
        "  print(\"選挙権あり\")"
      ],
      "metadata": {
        "id": "zWAVlsIdP0JX"
      },
      "execution_count": null,
      "outputs": []
    },
    {
      "cell_type": "markdown",
      "source": [
        "## range関数の意味\n",
        "##### range(開始値, 終了値)\n",
        "\n",
        "##### $開始値 \\leqq i < 終了値$"
      ],
      "metadata": {
        "id": "-RRGsAiu85DI"
      }
    },
    {
      "cell_type": "code",
      "source": [
        "#変数iの値はどのように変化してるの？\n",
        "for i in range(0, 10):\n",
        "  print(i)"
      ],
      "metadata": {
        "id": "AWsoiK5X0fLg"
      },
      "execution_count": null,
      "outputs": []
    },
    {
      "cell_type": "markdown",
      "source": [
        "range(0, 10)\n",
        "\n",
        "$0 \\leqq i < 10$"
      ],
      "metadata": {
        "id": "h-tVfgzpbGn5"
      }
    },
    {
      "cell_type": "code",
      "source": [
        "for i in range(3, 10):\n",
        "  print(i)"
      ],
      "metadata": {
        "id": "Z7T4ciQlz4YQ"
      },
      "execution_count": null,
      "outputs": []
    },
    {
      "cell_type": "markdown",
      "source": [
        "range(3, 10)\n",
        "\n",
        "$3 \\leqq i < 10$"
      ],
      "metadata": {
        "id": "1qn87FxxbT2R"
      }
    },
    {
      "cell_type": "markdown",
      "source": [
        "## 覚えよう！算術演算子\n",
        "|算術演算子|意味|\n",
        "|--|--|\n",
        "|a + b|足し算|\n",
        "|a - b|引き算|\n",
        "|a * b|掛け算|\n",
        "|a / b|割り算|\n",
        "|a // b|商|\n",
        "|a % b|a を b で割った余り|\n",
        "|a ** b|a の b 乗|"
      ],
      "metadata": {
        "id": "9eZZibWDGVBv"
      }
    },
    {
      "cell_type": "markdown",
      "source": [
        "## 例題1\n",
        "０から１１の整数を３で割ったときの<font color=\"red\">商</font>を表示するプログラム"
      ],
      "metadata": {
        "id": "G6UyyQ399eFD"
      }
    },
    {
      "cell_type": "code",
      "source": [
        "for i in range(12):\n",
        "  print(i // 3)"
      ],
      "metadata": {
        "id": "mLbrpzZ--HXC"
      },
      "execution_count": null,
      "outputs": []
    },
    {
      "cell_type": "markdown",
      "source": [
        "## 例題2\n",
        "０から１１の整数を３で割ったときの<font color=\"red\">余り</font>を表示するプログラム"
      ],
      "metadata": {
        "id": "ferBJKCh-oWx"
      }
    },
    {
      "cell_type": "code",
      "source": [
        "for i in range(12):\n",
        "  print(i % 3)"
      ],
      "metadata": {
        "id": "wZj7subw-7u5"
      },
      "execution_count": null,
      "outputs": []
    },
    {
      "cell_type": "markdown",
      "source": [
        "## 例題3\n",
        "１から１０までの和を表示するプログラム"
      ],
      "metadata": {
        "id": "xcnw6pC1_IlB"
      }
    },
    {
      "cell_type": "code",
      "source": [
        "s = 0\n",
        "for i in range(1,11):\n",
        "  s = s + i\n",
        "print(s)"
      ],
      "metadata": {
        "id": "OVNh4vku_XOx"
      },
      "execution_count": null,
      "outputs": []
    },
    {
      "cell_type": "markdown",
      "source": [
        "#考えてみよう\n",
        "下記のプログラムはどのような表示結果になるかな？"
      ],
      "metadata": {
        "id": "WvjNYIPn_nm5"
      }
    },
    {
      "cell_type": "code",
      "source": [
        "s = 0\n",
        "for i in range(1,11):\n",
        "  s = s + i\n",
        "  print(s)"
      ],
      "metadata": {
        "id": "BiUGcVME_yjJ"
      },
      "execution_count": null,
      "outputs": []
    },
    {
      "cell_type": "markdown",
      "source": [
        "###１０進数を２進数に変換するロジック（すだれ算）をPythonで書いてみよう"
      ],
      "metadata": {
        "id": "mXycX-h1H9io"
      }
    },
    {
      "cell_type": "code",
      "source": [
        "i = 168 # 10進数の数\n",
        "j = [] # 2進数\n",
        "while i != 0: # 商が0でないならば繰り返す\n",
        "  j.append(i % 2) # 余り\n",
        "  i = i // 2 # 商\n",
        "j.reverse() # リストの要素を逆順にする\n",
        "\n",
        "print(j) #リストの表示"
      ],
      "metadata": {
        "id": "CROCVzoZIe3_"
      },
      "execution_count": null,
      "outputs": []
    },
    {
      "cell_type": "markdown",
      "source": [
        "###１０進数を１６進数に変換するロジック（すだれ算）をPythonで書いてみよう"
      ],
      "metadata": {
        "id": "Uqz-eWjVx9S4"
      }
    },
    {
      "cell_type": "code",
      "source": [
        "i = 100 # 10進数の数\n",
        "j = [] # 16進数\n",
        "while i != 0: # 商が0でないならば繰り返す\n",
        "  j.append(i % 16) # 余り\n",
        "  i = i // 16 # 商\n",
        "for k in range(len(j)):\n",
        "  if j[k] == 10:j[k]=\"A\"\n",
        "  elif j[k] == 11:j[k]=\"B\"\n",
        "  elif j[k] == 12:j[k]=\"C\"\n",
        "  elif j[k] == 13:j[k]=\"D\"\n",
        "  elif j[k] == 14:j[k]=\"E\"\n",
        "  elif j[k] == 15:j[k]=\"F\"\n",
        "j.reverse() # リストの要素を逆順にする\n",
        "\n",
        "print(j) #リストの表示"
      ],
      "metadata": {
        "id": "ql_hE3LuyC3H"
      },
      "execution_count": null,
      "outputs": []
    }
  ]
}